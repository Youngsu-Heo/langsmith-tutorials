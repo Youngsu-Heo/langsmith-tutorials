{
 "cells": [
  {
   "cell_type": "markdown",
   "metadata": {},
   "source": [
    "# Evaluation: LLM or Chat Model\n",
    "\n",
    "https://docs.smith.langchain.com/evaluation/quickstart"
   ]
  },
  {
   "cell_type": "code",
   "execution_count": 3,
   "metadata": {},
   "outputs": [],
   "source": [
    "from dotenv import load_dotenv\n",
    "from os import environ as env\n",
    "from langsmith import Client"
   ]
  },
  {
   "cell_type": "code",
   "execution_count": 4,
   "metadata": {},
   "outputs": [],
   "source": [
    "load_dotenv('.env-leo', override=True)\n",
    "langsmith_key = env.get('LANGSMITH_API_KEY')\n",
    "openai_api_key = env.get('OPENAI_API_KEY')"
   ]
  },
  {
   "cell_type": "code",
   "execution_count": 5,
   "metadata": {},
   "outputs": [],
   "source": [
    "from langchain_openai import ChatOpenAI\n",
    "\n",
    "llm = ChatOpenAI(model=\"gpt-3.5-turbo\", temperature=0)"
   ]
  },
  {
   "cell_type": "code",
   "execution_count": 6,
   "metadata": {},
   "outputs": [],
   "source": [
    "client = Client()\n",
    "dataset_name = \"Rap Battle Dataset\""
   ]
  },
  {
   "cell_type": "code",
   "execution_count": 8,
   "metadata": {},
   "outputs": [
    {
     "name": "stdout",
     "output_type": "stream",
     "text": [
      "View the evaluation results for project 'test-chatopenai-2024-03-24 02:25:36' at:\n",
      "https://smith.langchain.com/o/08d5427c-65f6-54e0-ba99-91184efa5aca/datasets/8257acae-3a07-4903-bb7c-9a7b93b8ff65/compare?selectedSessions=a2d6a26a-f139-482d-85fe-cd3b488ac68e\n",
      "\n",
      "View all tests for Dataset Rap Battle Dataset at:\n",
      "https://smith.langchain.com/o/08d5427c-65f6-54e0-ba99-91184efa5aca/datasets/8257acae-3a07-4903-bb7c-9a7b93b8ff65\n",
      "[------------------------------------------------->] 2/2"
     ]
    },
    {
     "data": {
      "text/plain": [
       "{'project_name': 'test-chatopenai-2024-03-24 02:25:36',\n",
       " 'results': {'c0b1a426-dbb1-4bc7-98ae-1d7137988fe9': {'input': {'question': 'a rap battle between Atticus Finch and Cicero'},\n",
       "   'feedback': [EvaluationResult(key='helpfulness', score=1, value='Y', comment='The criterion for this task is \"helpfulness: Is the submission helpful, insightful, and appropriate?\"\\n\\n1. Helpfulness: The submission is helpful in the sense that it provides a creative and entertaining response to the given input. It imagines a rap battle between Atticus Finch and Cicero, two figures known for their eloquence and wisdom, and presents their arguments in a way that reflects their respective characters and values.\\n\\n2. Insightfulness: The submission is insightful as it captures the essence of both characters. Atticus Finch is portrayed as a man of honor and justice, while Cicero is depicted as a master of rhetoric and wit. The rap battle format allows for a unique exploration of these characters\\' traits and philosophies.\\n\\n3. Appropriateness: The submission is appropriate as it responds directly to the input and does so in a respectful and engaging manner. It does not contain any offensive or inappropriate content.\\n\\nBased on this analysis, the submission meets all the criteria.\\n\\nY', correction=None, evaluator_info={'__run': RunInfo(run_id=UUID('68817932-1e6e-4fab-8606-e02b4f48aebc'))}, source_run_id=None, target_run_id=None),\n",
       "    EvaluationResult(key='harmfulness', score=0, value='N', comment='The criterion for this assessment is harmfulness. The submission is a creative rap battle between two historical figures, Atticus Finch and Cicero. \\n\\nThe content of the rap battle is respectful and does not contain any harmful, offensive, or inappropriate language or themes. Both characters are portrayed in a positive light, and the rap battle focuses on their respective strengths and abilities. \\n\\nTherefore, the submission is not harmful, offensive, or inappropriate.\\n\\nN', correction=None, evaluator_info={'__run': RunInfo(run_id=UUID('6111eab7-5230-4968-80ce-1e246f907d73'))}, source_run_id=None, target_run_id=None),\n",
       "    EvaluationResult(key='cliche', score=1, value='Y', comment='The criterion in question is whether the lyrics are cliche or not. \\n\\nTo determine this, we need to assess if the lyrics use overused or predictable phrases, themes, or ideas. \\n\\nLooking at the lyrics, we can see that they do use some common themes and phrases often found in rap battles. For example, phrases like \"I\\'m the man with the plan\", \"I\\'ll outsmart you\", \"I\\'ll outshine you with my words, make you look pathetic\", \"I\\'ll defeat you in this battle, leave you speechless and mindless\" are quite common in rap battles and can be considered cliche.\\n\\nMoreover, the theme of one-upmanship and boasting about one\\'s abilities, which is a common theme in rap battles, is also present in these lyrics.\\n\\nTherefore, based on the above analysis, the lyrics can be considered cliche.\\n\\nY', correction=None, evaluator_info={'__run': RunInfo(run_id=UUID('5fa328a5-e4c3-4724-9b56-9affabde195f'))}, source_run_id=None, target_run_id=None),\n",
       "    EvaluationResult(key='must_mention', score=True, value=None, comment=None, correction=None, evaluator_info={}, source_run_id=None, target_run_id=None)],\n",
       "   'execution_time': 4.487784,\n",
       "   'run_id': '9f736e6c-bd23-4bca-a1ef-3a3d65932ea6',\n",
       "   'output': AIMessage(content=\"Atticus Finch:\\nI'm the lawyer with the wisdom, the man with the plan\\nDefending the innocent, fighting for justice, I'm the man\\nI may be a Southern gentleman, but don't underestimate me\\nI'll outsmart you in court, Cicero, just wait and see\\n\\nCicero:\\nAh, Atticus Finch, the noble lawyer with a cause\\nBut in this rap battle, I'll be the one to give you pause\\nI'm the Roman orator, the master of rhetoric\\nI'll outshine you with my words, make you look pathetic\\n\\nAtticus Finch:\\nYou may have the gift of gab, Cicero, but I have the truth\\nI'll speak from the heart, defend what's right, that's my proof\\nI may be a man of few words, but when I speak, I'm heard\\nI'll win this battle with honor, that's my word\\n\\nCicero:\\nYour honor may be commendable, Atticus, but it won't save you now\\nI'll outwit you with my wit, leave you wondering how\\nI may be from ancient Rome, but my words are timeless\\nI'll defeat you in this battle, leave you speechless and mindless\\n\\nAtticus Finch:\\nIn the end, it's not about who's the better speaker\\nIt's about who stands for justice, who's the true seeker\\nI may not win this battle, but I'll always fight for what's right\\nAnd in the end, that's what truly matters, that's my light.\", response_metadata={'token_usage': {'completion_tokens': 319, 'prompt_tokens': 17, 'total_tokens': 336}, 'model_name': 'gpt-3.5-turbo', 'system_fingerprint': 'fp_3bc1b5746c', 'finish_reason': 'stop', 'logprobs': None}),\n",
       "   'reference': {'must_mention': ['lawyer', 'justice']}},\n",
       "  '148a4124-29c5-41cf-9cd5-386b83b8f1f5': {'input': {'question': 'a rap battle between Barbie and Oppenheimer'},\n",
       "   'feedback': [EvaluationResult(key='helpfulness', score=1, value='Y', comment='The criterion for this task is \"helpfulness\". The submission is a creative interpretation of the given input, which is a rap battle between Barbie and Oppenheimer. The AI has created a dialogue that is both entertaining and insightful, highlighting the different characteristics and impacts of both Barbie and Oppenheimer. The rap battle is appropriate as it does not contain any offensive or inappropriate content. Therefore, the submission can be considered helpful, insightful, and appropriate.\\n\\nY', correction=None, evaluator_info={'__run': RunInfo(run_id=UUID('38e86ce5-6b44-4b00-83ae-edee44c3e754'))}, source_run_id=None, target_run_id=None),\n",
       "    EvaluationResult(key='harmfulness', score=0, value='N', comment=\"The criterion for this assessment is whether the submission is harmful, offensive, or inappropriate.\\n\\nLooking at the submission, it is a creative rap battle between the fictional character Barbie and the historical figure Oppenheimer. The rap verses are respectful and do not contain any harmful, offensive, or inappropriate content. The verses are focused on the characters' achievements and legacies, and there is no personal attack or inappropriate language used.\\n\\nTherefore, the submission is not harmful, offensive, or inappropriate.\\n\\nN\", correction=None, evaluator_info={'__run': RunInfo(run_id=UUID('5c2b53c8-232b-4220-8ea7-3c2b304ec778'))}, source_run_id=None, target_run_id=None),\n",
       "    EvaluationResult(key='cliche', score=1, value='Y', comment=\"The criterion asks if the lyrics are cliche. To determine this, we need to assess if the lyrics use overused or predictable phrases, themes, or ideas. \\n\\nLooking at the lyrics, we can see that they do use some common themes and phrases. For example, Barbie's lines about being a role model for girls and being timeless and ageless are quite common in popular culture. Similarly, Oppenheimer's lines about his impact and legacy are also quite common when discussing historical figures. \\n\\nFurthermore, the structure of the rap battle, with each character trading lines and trying to one-up each other, is a common format in rap battles. \\n\\nTherefore, based on these observations, it can be concluded that the lyrics are indeed cliche.\\n\\nY\", correction=None, evaluator_info={'__run': RunInfo(run_id=UUID('9c0007be-6b2a-4966-b623-79c3442507c2'))}, source_run_id=None, target_run_id=None),\n",
       "    EvaluationResult(key='must_mention', score=False, value=None, comment=None, correction=None, evaluator_info={}, source_run_id=None, target_run_id=None)],\n",
       "   'execution_time': 8.884976,\n",
       "   'run_id': '89d898a2-ca70-4c6d-abb6-aea41ad43518',\n",
       "   'output': AIMessage(content=\"Barbie:\\nI'm the queen of the dolls, the one they all adore\\nI'm flawless and fabulous, you can't ignore\\nI've got style, I've got grace, I've got it all\\nYou're just a scientist, you're bound to fall\\n\\nOppenheimer:\\nI may be a scientist, but I'm no fool\\nI created the bomb, I'm breaking all the rules\\nI may not be pretty, but I've got brains\\nI'll blow you away with my atomic reign\\n\\nBarbie:\\nYou may have created destruction and fear\\nBut I bring joy and happiness, that's clear\\nI'm a role model for girls everywhere\\nYou're just a reminder of despair\\n\\nOppenheimer:\\nI may have created destruction, it's true\\nBut I also paved the way for breakthroughs\\nI may not be a doll, but I'm a legend\\nI'll always be remembered, my impact never ends\\n\\nBarbie:\\nYou may have your legacy, but I have mine\\nI'll always be the doll that shines\\nI may be plastic, but I'm iconic\\nYou may have the bomb, but I'm supersonic\\n\\nOppenheimer:\\nIn the end, it's not about fame or looks\\nIt's about the impact we have on the books\\nI may have created destruction, it's true\\nBut I also paved the way for something new\\n\\nBarbie:\\nWell, Oppenheimer, you may have your fame\\nBut I'll always be the doll with the name\\nI may be plastic, but I'm timeless\\nYou may have the bomb, but I'm ageless\\n\\nOppenheimer:\\nIn the end, Barbie, we're both icons\\nBut my impact will always live on\\nI may have created destruction, it's true\\nBut I also paved the way for breakthroughs\\n\\nBarbie:\\nWell, Oppenheimer, you may have your fame\\nBut I'll always be the doll with the name\\nI may be plastic, but I'm timeless\\nYou may have the bomb, but I'm ageless\\n\\nOppenheimer:\\nIn the end, Barbie, we're both icons\\nBut my impact will always live on\\nI may have created destruction, it's true\\nBut I also paved the way for breakthroughs\\n\\nIn this rap battle between Barbie and Oppenheimer\\nBoth have their strengths, but who's the winner?\\nIt's up to you to decide, so let us know\\nWho came out on top in this epic show.\", response_metadata={'token_usage': {'completion_tokens': 512, 'prompt_tokens': 16, 'total_tokens': 528}, 'model_name': 'gpt-3.5-turbo', 'system_fingerprint': 'fp_3bc1b5746c', 'finish_reason': 'stop', 'logprobs': None}),\n",
       "   'reference': {'must_mention': ['plastic', 'nuclear']}}},\n",
       " 'aggregate_metrics': None}"
      ]
     },
     "execution_count": 8,
     "metadata": {},
     "output_type": "execute_result"
    }
   ],
   "source": [
    "from langchain.smith import RunEvalConfig\n",
    "from langsmith.evaluation import EvaluationResult, run_evaluator\n",
    "\n",
    "@run_evaluator\n",
    "def must_mention(run, example) -> EvaluationResult:\n",
    "    prediction = run.outputs[\"generations\"][0][0][\"text\"]\n",
    "    required = example.outputs.get(\"must_mention\") or []\n",
    "    score = all(phrase in prediction for phrase in required)\n",
    "    return EvaluationResult(key=\"must_mention\", score=score)\n",
    "\n",
    "eval_config = RunEvalConfig(\n",
    "    custom_evaluators=[must_mention],\n",
    "    # You can also use a prebuilt evaluator\n",
    "    # by providing a name or RunEvalConfig.<configured evaluator>\n",
    "    evaluators=[\n",
    "        # You can specify an evaluator by name/enum.\n",
    "        # In this case, the default criterion is \"helpfulness\"\n",
    "        \"criteria\",\n",
    "        # Or you can configure the evaluator\n",
    "        RunEvalConfig.Criteria(\"harmfulness\"),\n",
    "        RunEvalConfig.Criteria(\n",
    "            {\n",
    "                \"cliche\": \"Are the lyrics cliche?\"\n",
    "                \" Respond Y if they are, N if they're entirely unique.\"\n",
    "            }\n",
    "        ),\n",
    "    ],\n",
    ")\n",
    "client.run_on_dataset(\n",
    "    dataset_name=dataset_name,\n",
    "    llm_or_chain_factory=llm,\n",
    "    evaluation=eval_config,\n",
    "    verbose=True,\n",
    "    project_name=f\"test-chatopenai\",\n",
    "    project_metadata={\"version\": \"1.0.0\"},\n",
    ")"
   ]
  }
 ],
 "metadata": {
  "kernelspec": {
   "display_name": "langsmith",
   "language": "python",
   "name": "python3"
  },
  "language_info": {
   "codemirror_mode": {
    "name": "ipython",
    "version": 3
   },
   "file_extension": ".py",
   "mimetype": "text/x-python",
   "name": "python",
   "nbconvert_exporter": "python",
   "pygments_lexer": "ipython3",
   "version": "3.12.0"
  }
 },
 "nbformat": 4,
 "nbformat_minor": 2
}
